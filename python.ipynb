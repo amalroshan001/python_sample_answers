{
 "cells": [
  {
   "cell_type": "markdown",
   "id": "7817517e",
   "metadata": {},
   "source": [
    "## QSTN 1"
   ]
  },
  {
   "cell_type": "code",
   "execution_count": 7,
   "id": "16d51077",
   "metadata": {},
   "outputs": [
    {
     "name": "stdout",
     "output_type": "stream",
     "text": [
      "Hey Guys\n"
     ]
    }
   ],
   "source": [
    "name=(\"Hey Guys\")\n",
    "print(name)"
   ]
  },
  {
   "cell_type": "code",
   "execution_count": 5,
   "id": "f4eb3b80",
   "metadata": {},
   "outputs": [
    {
     "data": {
      "text/plain": [
       "str"
      ]
     },
     "execution_count": 5,
     "metadata": {},
     "output_type": "execute_result"
    }
   ],
   "source": [
    "type(name)"
   ]
  },
  {
   "cell_type": "code",
   "execution_count": 8,
   "id": "298b52bd",
   "metadata": {},
   "outputs": [],
   "source": [
    "name=\"Sachin Tendulkar\""
   ]
  },
  {
   "cell_type": "code",
   "execution_count": 11,
   "id": "ca7a51f2",
   "metadata": {},
   "outputs": [
    {
     "data": {
      "text/plain": [
       "'Sachi'"
      ]
     },
     "execution_count": 11,
     "metadata": {},
     "output_type": "execute_result"
    }
   ],
   "source": [
    "name[:5]"
   ]
  },
  {
   "cell_type": "code",
   "execution_count": 12,
   "id": "ef36a5f9",
   "metadata": {},
   "outputs": [
    {
     "data": {
      "text/plain": [
       "'r'"
      ]
     },
     "execution_count": 12,
     "metadata": {},
     "output_type": "execute_result"
    }
   ],
   "source": [
    "name[-1]"
   ]
  },
  {
   "cell_type": "code",
   "execution_count": 13,
   "id": "3ac97625",
   "metadata": {},
   "outputs": [],
   "source": [
    "# Arithmetic Operators"
   ]
  },
  {
   "cell_type": "code",
   "execution_count": 15,
   "id": "33a47acc",
   "metadata": {},
   "outputs": [
    {
     "data": {
      "text/plain": [
       "1783586"
      ]
     },
     "execution_count": 15,
     "metadata": {},
     "output_type": "execute_result"
    }
   ],
   "source": [
    "1684741+98845"
   ]
  },
  {
   "cell_type": "code",
   "execution_count": 16,
   "id": "1400e18a",
   "metadata": {},
   "outputs": [
    {
     "data": {
      "text/plain": [
       "324"
      ]
     },
     "execution_count": 16,
     "metadata": {},
     "output_type": "execute_result"
    }
   ],
   "source": [
    "18**2"
   ]
  },
  {
   "cell_type": "code",
   "execution_count": 21,
   "id": "d093f0ba",
   "metadata": {},
   "outputs": [
    {
     "data": {
      "text/plain": [
       "0"
      ]
     },
     "execution_count": 21,
     "metadata": {},
     "output_type": "execute_result"
    }
   ],
   "source": [
    "33//78"
   ]
  },
  {
   "cell_type": "markdown",
   "id": "3dcabfbe",
   "metadata": {},
   "source": [
    "### IF"
   ]
  },
  {
   "cell_type": "code",
   "execution_count": 23,
   "id": "12f3eca7",
   "metadata": {},
   "outputs": [
    {
     "name": "stdout",
     "output_type": "stream",
     "text": [
      "Made It\n"
     ]
    }
   ],
   "source": [
    "name=\"Roshan\"\n",
    "if type(name)==str:\n",
    "    print(\"Made It\")"
   ]
  },
  {
   "cell_type": "code",
   "execution_count": 28,
   "id": "d6889d07",
   "metadata": {},
   "outputs": [
    {
     "name": "stdout",
     "output_type": "stream",
     "text": [
      "Final Wish Please\n"
     ]
    }
   ],
   "source": [
    "age = 100\n",
    "if age>18 and age<60:\n",
    "    print(\"Accepted Your Request\")\n",
    "elif age==100:\n",
    "        print(\"Final Wish Please\")\n",
    "else:\n",
    "    print(\"Just Come Back Another Time\")"
   ]
  },
  {
   "cell_type": "markdown",
   "id": "53f1744f",
   "metadata": {},
   "source": [
    "### INPUT"
   ]
  },
  {
   "cell_type": "code",
   "execution_count": 29,
   "id": "57b4723c",
   "metadata": {},
   "outputs": [
    {
     "name": "stdout",
     "output_type": "stream",
     "text": [
      "Enter Your Nmae : Amal Roshan\n"
     ]
    },
    {
     "data": {
      "text/plain": [
       "'Amal Roshan'"
      ]
     },
     "execution_count": 29,
     "metadata": {},
     "output_type": "execute_result"
    }
   ],
   "source": [
    "input(\"Enter Your Nmae : \")"
   ]
  },
  {
   "cell_type": "code",
   "execution_count": 32,
   "id": "342adbfc",
   "metadata": {},
   "outputs": [
    {
     "name": "stdout",
     "output_type": "stream",
     "text": [
      "Enter Your Name : Amal Roshan\n",
      "How Old Are You : 52\n",
      "Enter Your Email : saiubdfj@gamil.com\n",
      "You Can Enter\n"
     ]
    }
   ],
   "source": [
    "name=input(\"Enter Your Name : \")\n",
    "age=int(input(\"How Old Are You : \"))\n",
    "mail_id=input(\"Enter Your Email : \")\n",
    "if age>=18 and age<60:\n",
    "    print(\"You Can Enter\")\n",
    "elif age<5:\n",
    "    print(\"You Can Also Enter\")\n",
    "else:\n",
    "    print(\"Just Go To Somewhere Else\")"
   ]
  },
  {
   "cell_type": "code",
   "execution_count": 35,
   "id": "d3c966b9",
   "metadata": {},
   "outputs": [
    {
     "name": "stdout",
     "output_type": "stream",
     "text": [
      "Enter A Number : 62\n",
      "Can't Do It\n"
     ]
    }
   ],
   "source": [
    "num=int(input(\"Enter A Number : \"))\n",
    "ld=num%10\n",
    "if num%3==0:\n",
    "    print(\"Can Be Divided By 3\")\n",
    "else:\n",
    "    print(\"Can't Do It\")"
   ]
  },
  {
   "cell_type": "code",
   "execution_count": null,
   "id": "4bf5f7a9",
   "metadata": {},
   "outputs": [],
   "source": []
  },
  {
   "cell_type": "code",
   "execution_count": null,
   "id": "700a4eca",
   "metadata": {},
   "outputs": [],
   "source": []
  },
  {
   "cell_type": "code",
   "execution_count": null,
   "id": "5beb9caf",
   "metadata": {},
   "outputs": [],
   "source": []
  },
  {
   "cell_type": "code",
   "execution_count": null,
   "id": "d5d56810",
   "metadata": {},
   "outputs": [],
   "source": []
  },
  {
   "cell_type": "markdown",
   "id": "8f7ec1b1",
   "metadata": {},
   "source": [
    "### NESTED IF"
   ]
  },
  {
   "cell_type": "code",
   "execution_count": 52,
   "id": "0e695aac",
   "metadata": {},
   "outputs": [
    {
     "name": "stdout",
     "output_type": "stream",
     "text": [
      "Enter Your Age : 58\n",
      "You Are A Youngster\n"
     ]
    }
   ],
   "source": [
    "age=int(input(\"Enter Your Age : \"))\n",
    "if age>=18:\n",
    "    if age<=60:\n",
    "        print(\"You Are A Youngster\")\n",
    "    else:\n",
    "        print(\"You Are Aged Old Man\")\n",
    "else:\n",
    "    print(\"You Are Almost Dead\")"
   ]
  },
  {
   "cell_type": "code",
   "execution_count": 3,
   "id": "c7496a76",
   "metadata": {},
   "outputs": [
    {
     "name": "stdout",
     "output_type": "stream",
     "text": [
      "Who are You?\n"
     ]
    }
   ],
   "source": [
    "number=18\n",
    "name=894796\n",
    "if number==18:\n",
    "    if type(name)==str:\n",
    "        print(\"Hello Guys, Good Morning\")\n",
    "    else:\n",
    "        print(\"Who are You?\")\n",
    "else:\n",
    "    print(\"Get Out Of Here\")"
   ]
  },
  {
   "cell_type": "markdown",
   "id": "7e0d128e",
   "metadata": {},
   "source": [
    "### FOR"
   ]
  },
  {
   "cell_type": "code",
   "execution_count": 4,
   "id": "f8948e26",
   "metadata": {},
   "outputs": [],
   "source": [
    "myList=[\"Banana\",\"Cherry\",\"Apple\",\"Chikku\",\"Strawberry\",\"Pineapple\",\"Papaya\",\"Orange\"]"
   ]
  },
  {
   "cell_type": "code",
   "execution_count": 7,
   "id": "6ddabf1a",
   "metadata": {},
   "outputs": [
    {
     "name": "stdout",
     "output_type": "stream",
     "text": [
      "Banana\n",
      "Cherry\n",
      "Apple\n",
      "Chikku\n",
      "Strawberry\n",
      "Pineapple\n",
      "Papaya\n",
      "Orange\n"
     ]
    }
   ],
   "source": [
    "for fruits in myList:\n",
    "    print(fruits)"
   ]
  },
  {
   "cell_type": "code",
   "execution_count": 13,
   "id": "f36a3f74",
   "metadata": {},
   "outputs": [],
   "source": [
    "myList.append(\"Jackfuit\")"
   ]
  },
  {
   "cell_type": "code",
   "execution_count": 14,
   "id": "07776d66",
   "metadata": {},
   "outputs": [
    {
     "data": {
      "text/plain": [
       "['Banana',\n",
       " 'Cherry',\n",
       " 'Apple',\n",
       " 'Chikku',\n",
       " 'Strawberry',\n",
       " 'Pineapple',\n",
       " 'Papaya',\n",
       " 'Orange',\n",
       " 'Jackfuit',\n",
       " 'Jackfuit']"
      ]
     },
     "execution_count": 14,
     "metadata": {},
     "output_type": "execute_result"
    }
   ],
   "source": [
    "myList"
   ]
  },
  {
   "cell_type": "code",
   "execution_count": 30,
   "id": "7a0a9eda",
   "metadata": {},
   "outputs": [],
   "source": [
    "players=[\"Messi\",\"Pele\",\"Maradona\",\"Suarez\",\"Neymar\",10,11,9,21,7]"
   ]
  },
  {
   "cell_type": "code",
   "execution_count": 36,
   "id": "9b9bd7a4",
   "metadata": {},
   "outputs": [],
   "source": [
    "name=[]\n",
    "num=[]\n",
    "for i in players:\n",
    "    if type(i)==str:\n",
    "        name.append(i)\n",
    "    elif type(i)==int:\n",
    "        num.append(i)"
   ]
  },
  {
   "cell_type": "code",
   "execution_count": 37,
   "id": "555fe360",
   "metadata": {},
   "outputs": [
    {
     "data": {
      "text/plain": [
       "['Messi', 'Pele', 'Maradona', 'Suarez', 'Neymar']"
      ]
     },
     "execution_count": 37,
     "metadata": {},
     "output_type": "execute_result"
    }
   ],
   "source": [
    "name"
   ]
  },
  {
   "cell_type": "code",
   "execution_count": 38,
   "id": "d7efe6de",
   "metadata": {},
   "outputs": [
    {
     "data": {
      "text/plain": [
       "[10, 11, 9, 21, 7]"
      ]
     },
     "execution_count": 38,
     "metadata": {},
     "output_type": "execute_result"
    }
   ],
   "source": [
    "num"
   ]
  },
  {
   "cell_type": "code",
   "execution_count": 39,
   "id": "ad58b75d",
   "metadata": {},
   "outputs": [],
   "source": [
    "countries=[\"India\",\"Brazil\",\"Canada\",\"Korea\",\"Russia\",1000000000,150000,410254,698745,458750]"
   ]
  },
  {
   "cell_type": "code",
   "execution_count": 41,
   "id": "b24de730",
   "metadata": {},
   "outputs": [],
   "source": [
    "name=[]\n",
    "population=[]\n",
    "for n in countries:\n",
    "    if type(n)==str:\n",
    "        name.append(n)\n",
    "    elif type(n)==int:\n",
    "        population.append(n)"
   ]
  },
  {
   "cell_type": "code",
   "execution_count": 42,
   "id": "f421ef18",
   "metadata": {},
   "outputs": [
    {
     "data": {
      "text/plain": [
       "['India', 'Brazil', 'Canada', 'Korea', 'Russia']"
      ]
     },
     "execution_count": 42,
     "metadata": {},
     "output_type": "execute_result"
    }
   ],
   "source": [
    "name"
   ]
  },
  {
   "cell_type": "code",
   "execution_count": 43,
   "id": "21ad3f74",
   "metadata": {},
   "outputs": [
    {
     "data": {
      "text/plain": [
       "[1000000000, 150000, 410254, 698745, 458750]"
      ]
     },
     "execution_count": 43,
     "metadata": {},
     "output_type": "execute_result"
    }
   ],
   "source": [
    "population"
   ]
  },
  {
   "cell_type": "code",
   "execution_count": 44,
   "id": "43b5661f",
   "metadata": {},
   "outputs": [],
   "source": [
    "numbers=[15,18,20,50,45,1,2,6,78,68,10,12]"
   ]
  },
  {
   "cell_type": "code",
   "execution_count": 52,
   "id": "25d1a2fc",
   "metadata": {},
   "outputs": [],
   "source": [
    "greater=[]\n",
    "lower=[]\n",
    "for i in numbers:\n",
    "    if i>18:\n",
    "        greater.append(i)\n",
    "    elif i<18:\n",
    "        lower.append(i)"
   ]
  },
  {
   "cell_type": "code",
   "execution_count": 53,
   "id": "b2eb7f55",
   "metadata": {},
   "outputs": [
    {
     "data": {
      "text/plain": [
       "[20, 50, 45, 78, 68]"
      ]
     },
     "execution_count": 53,
     "metadata": {},
     "output_type": "execute_result"
    }
   ],
   "source": [
    "greater"
   ]
  },
  {
   "cell_type": "code",
   "execution_count": 54,
   "id": "df6c5cf2",
   "metadata": {},
   "outputs": [
    {
     "data": {
      "text/plain": [
       "[15, 1, 2, 6, 10, 12]"
      ]
     },
     "execution_count": 54,
     "metadata": {},
     "output_type": "execute_result"
    }
   ],
   "source": [
    "lower"
   ]
  },
  {
   "cell_type": "code",
   "execution_count": 55,
   "id": "570e77eb",
   "metadata": {},
   "outputs": [],
   "source": [
    "numbers=[15,14,78,66,10,55,75,14,99]"
   ]
  },
  {
   "cell_type": "code",
   "execution_count": 67,
   "id": "01679f01",
   "metadata": {},
   "outputs": [],
   "source": [
    "odd=[]\n",
    "even=[]\n",
    "for i in numbers:\n",
    "    if i%2!=0:\n",
    "        odd.append(i)\n",
    "    elif i%2==0:\n",
    "        even.append(i)"
   ]
  },
  {
   "cell_type": "code",
   "execution_count": 68,
   "id": "246d914c",
   "metadata": {},
   "outputs": [
    {
     "data": {
      "text/plain": [
       "[15, 55, 75, 99]"
      ]
     },
     "execution_count": 68,
     "metadata": {},
     "output_type": "execute_result"
    }
   ],
   "source": [
    "odd"
   ]
  },
  {
   "cell_type": "code",
   "execution_count": 69,
   "id": "0c1b159d",
   "metadata": {},
   "outputs": [
    {
     "data": {
      "text/plain": [
       "[14, 78, 66, 10, 14]"
      ]
     },
     "execution_count": 69,
     "metadata": {},
     "output_type": "execute_result"
    }
   ],
   "source": [
    "even"
   ]
  },
  {
   "cell_type": "code",
   "execution_count": null,
   "id": "8044d901",
   "metadata": {},
   "outputs": [],
   "source": []
  },
  {
   "cell_type": "markdown",
   "id": "cdb8aeca",
   "metadata": {},
   "source": [
    "### BREAK"
   ]
  },
  {
   "cell_type": "code",
   "execution_count": 75,
   "id": "9bb9d5ba",
   "metadata": {},
   "outputs": [],
   "source": [
    "myList=[1,78,45,47,\"Carlson\",\"Messi\",\"Neymar\",\"CR7\"]"
   ]
  },
  {
   "cell_type": "code",
   "execution_count": 80,
   "id": "ca34b31b",
   "metadata": {},
   "outputs": [
    {
     "name": "stdout",
     "output_type": "stream",
     "text": [
      "1\n",
      "78\n",
      "45\n",
      "47\n",
      "Carlson\n",
      "Messi\n"
     ]
    }
   ],
   "source": [
    "for i in myList:\n",
    "    if i==\"Neymar\":\n",
    "        break\n",
    "    print(i)"
   ]
  },
  {
   "cell_type": "code",
   "execution_count": 81,
   "id": "57370af8",
   "metadata": {},
   "outputs": [
    {
     "name": "stdout",
     "output_type": "stream",
     "text": [
      "1\n",
      "78\n",
      "45\n",
      "47\n",
      "Carlson\n",
      "Messi\n",
      "Neymar\n",
      "CR7\n",
      "You are Out of Data\n"
     ]
    }
   ],
   "source": [
    "for s in myList:\n",
    "    print(s)\n",
    "else:\n",
    "    print(\"You are Out of Data\")"
   ]
  },
  {
   "cell_type": "markdown",
   "id": "6e62e396",
   "metadata": {},
   "source": [
    "### CONTINUE"
   ]
  },
  {
   "cell_type": "code",
   "execution_count": 82,
   "id": "5572dd6a",
   "metadata": {},
   "outputs": [],
   "source": [
    "myList=[1,78,45,47,\"Carlson\",\"Messi\",\"Neymar\",\"CR7\"]"
   ]
  },
  {
   "cell_type": "code",
   "execution_count": 83,
   "id": "3aaa76b2",
   "metadata": {},
   "outputs": [
    {
     "name": "stdout",
     "output_type": "stream",
     "text": [
      "1\n",
      "78\n",
      "45\n",
      "47\n",
      "Messi\n",
      "Neymar\n",
      "CR7\n"
     ]
    }
   ],
   "source": [
    "for n in myList:\n",
    "    if n==\"Carlson\":\n",
    "        continue\n",
    "    print(n)"
   ]
  },
  {
   "cell_type": "code",
   "execution_count": 84,
   "id": "dc6a9ac2",
   "metadata": {},
   "outputs": [],
   "source": [
    "numbers=[20,88,54,1,2,7,65,20,24,48]"
   ]
  },
  {
   "cell_type": "code",
   "execution_count": 86,
   "id": "2e0a3246",
   "metadata": {},
   "outputs": [
    {
     "name": "stdout",
     "output_type": "stream",
     "text": [
      "88\n",
      "54\n",
      "65\n",
      "24\n",
      "48\n"
     ]
    }
   ],
   "source": [
    "for k in numbers:\n",
    "    if k<21:\n",
    "        continue\n",
    "    print(k)"
   ]
  },
  {
   "cell_type": "markdown",
   "id": "0aad5c26",
   "metadata": {},
   "source": [
    "### RANGE"
   ]
  },
  {
   "cell_type": "code",
   "execution_count": 88,
   "id": "f70ac0df",
   "metadata": {},
   "outputs": [
    {
     "data": {
      "text/plain": [
       "[0, 1, 2, 3, 4, 5, 6, 7, 8, 9, 10, 11, 12, 13, 14, 15, 16, 17, 18, 19, 20]"
      ]
     },
     "execution_count": 88,
     "metadata": {},
     "output_type": "execute_result"
    }
   ],
   "source": [
    "list(range(0,20+1))"
   ]
  },
  {
   "cell_type": "code",
   "execution_count": 89,
   "id": "8ce10bc4",
   "metadata": {},
   "outputs": [
    {
     "data": {
      "text/plain": [
       "[100, 105, 110, 115, 120, 125, 130, 135, 140, 145]"
      ]
     },
     "execution_count": 89,
     "metadata": {},
     "output_type": "execute_result"
    }
   ],
   "source": [
    "list(range(100,150,5))"
   ]
  },
  {
   "cell_type": "code",
   "execution_count": 92,
   "id": "96aee197",
   "metadata": {},
   "outputs": [
    {
     "name": "stdout",
     "output_type": "stream",
     "text": [
      "100\n",
      "105\n",
      "110\n",
      "115\n",
      "120\n",
      "125\n",
      "130\n",
      "135\n",
      "140\n",
      "145\n",
      "150\n",
      "155\n",
      "160\n",
      "165\n",
      "170\n",
      "175\n"
     ]
    }
   ],
   "source": [
    "for i in range(100,200,5):\n",
    "    if i>=180:\n",
    "        continue\n",
    "    print(i)"
   ]
  },
  {
   "cell_type": "code",
   "execution_count": 93,
   "id": "835c3e0e",
   "metadata": {},
   "outputs": [
    {
     "data": {
      "text/plain": [
       "[1, 78, 45, 47, 'Carlson', 'Messi', 'Neymar', 'CR7']"
      ]
     },
     "execution_count": 93,
     "metadata": {},
     "output_type": "execute_result"
    }
   ],
   "source": [
    "myList"
   ]
  },
  {
   "cell_type": "code",
   "execution_count": 94,
   "id": "77dc0178",
   "metadata": {},
   "outputs": [
    {
     "name": "stdout",
     "output_type": "stream",
     "text": [
      "0\n",
      "1\n",
      "2\n",
      "3\n",
      "4\n",
      "5\n",
      "6\n",
      "7\n"
     ]
    }
   ],
   "source": [
    "for i in range(len(myList)):\n",
    "    print(i)"
   ]
  },
  {
   "cell_type": "code",
   "execution_count": 105,
   "id": "675d033e",
   "metadata": {},
   "outputs": [
    {
     "name": "stdout",
     "output_type": "stream",
     "text": [
      "[1, 3, 5, 13]\n",
      "['a', 'a', 'a', 'a']\n"
     ]
    }
   ],
   "source": [
    "name=\"Malala Yusufzai\"\n",
    "name1=[]\n",
    "name2=[]\n",
    "for i in range(len(name)):\n",
    "    if name[i]==\"a\":\n",
    "        name1.append(i)\n",
    "        name2.append(name[i])\n",
    "print(name1,name2,sep='\\n')"
   ]
  },
  {
   "cell_type": "code",
   "execution_count": null,
   "id": "0486495d",
   "metadata": {},
   "outputs": [],
   "source": []
  },
  {
   "cell_type": "code",
   "execution_count": 111,
   "id": "911c9717",
   "metadata": {},
   "outputs": [
    {
     "name": "stdout",
     "output_type": "stream",
     "text": [
      "[0, 2, 9]\n",
      "['a', 'a', 'a']\n"
     ]
    }
   ],
   "source": [
    "name=\"amal roshan\"\n",
    "name1=[]\n",
    "name2=[]\n",
    "for y in range(len(name)):\n",
    "    if name[y]==\"a\":\n",
    "        name1.append(y)\n",
    "        name2.append(name[y])\n",
    "print(name1,name2,sep='\\n')"
   ]
  },
  {
   "cell_type": "code",
   "execution_count": null,
   "id": "696c93dd",
   "metadata": {},
   "outputs": [],
   "source": []
  },
  {
   "cell_type": "code",
   "execution_count": 113,
   "id": "503eda14",
   "metadata": {},
   "outputs": [
    {
     "name": "stdout",
     "output_type": "stream",
     "text": [
      "Integors Position : [5, 7, 17, 20, 29, 31, 36, 38, 41]\n",
      "Letter of Name :  ['o', 'o', 'o', 'o', 'o', 'o', 'o', 'o', 'o']\n"
     ]
    }
   ],
   "source": [
    "name=\"Pneumonoultramicroscopicsilicovolcanocomiosis\"\n",
    "integors=[]\n",
    "letters=[]\n",
    "for y in range(len(name)):\n",
    "    if name[y]==\"o\":\n",
    "        integors.append(y)\n",
    "        letters.append(name[y])\n",
    "print(\"Integors Position :\",integors)\n",
    "print(\"Letter of Name : \",letters)"
   ]
  },
  {
   "cell_type": "code",
   "execution_count": null,
   "id": "3b9386ae",
   "metadata": {},
   "outputs": [],
   "source": []
  },
  {
   "cell_type": "code",
   "execution_count": null,
   "id": "3c09fba2",
   "metadata": {},
   "outputs": [],
   "source": []
  },
  {
   "cell_type": "markdown",
   "id": "772cb749",
   "metadata": {},
   "source": [
    "## QSTN 2"
   ]
  },
  {
   "cell_type": "code",
   "execution_count": 2,
   "id": "49c6ca82",
   "metadata": {},
   "outputs": [
    {
     "name": "stdout",
     "output_type": "stream",
     "text": [
      "Enter Your Name : sebastian\n",
      "b\n",
      "a\n",
      "t\n",
      "i\n",
      "a\n",
      "n\n"
     ]
    }
   ],
   "source": [
    "name=input(\"Enter Your Name : \")\n",
    "for y in name:\n",
    "    if y==\"e\":\n",
    "        continue\n",
    "    elif y==\"s\":\n",
    "        continue\n",
    "    print(y)"
   ]
  },
  {
   "cell_type": "code",
   "execution_count": null,
   "id": "61e1a7da",
   "metadata": {},
   "outputs": [],
   "source": []
  },
  {
   "cell_type": "markdown",
   "id": "d5f8eb99",
   "metadata": {},
   "source": [
    "### QSTN 3"
   ]
  },
  {
   "cell_type": "code",
   "execution_count": 24,
   "id": "9abfc06e",
   "metadata": {},
   "outputs": [
    {
     "name": "stdout",
     "output_type": "stream",
     "text": [
      "Enter a number: 10\n",
      "The sum of first n natural numbers is :  55\n"
     ]
    }
   ],
   "source": [
    "n=int(input(\"Enter a number: \"))\n",
    "sum1 = 0\n",
    "for i in range(n+1):\n",
    "    sum1=sum1+i\n",
    "print(\"The sum of first n natural numbers is : \",sum1)"
   ]
  },
  {
   "cell_type": "code",
   "execution_count": null,
   "id": "d4481454",
   "metadata": {},
   "outputs": [],
   "source": []
  },
  {
   "cell_type": "markdown",
   "id": "061eb272",
   "metadata": {},
   "source": [
    "### QSTN 4"
   ]
  },
  {
   "cell_type": "code",
   "execution_count": 3,
   "id": "15779f0b",
   "metadata": {},
   "outputs": [
    {
     "name": "stdout",
     "output_type": "stream",
     "text": [
      "Enter s number20\n",
      "51\n"
     ]
    }
   ],
   "source": [
    "number= int(input('Enter s number'))\n",
    "out=0\n",
    "for i in range(number):\n",
    "    if i%5==0 or i%7==0:\n",
    "        out=out+i\n",
    "print(out)"
   ]
  },
  {
   "cell_type": "code",
   "execution_count": 27,
   "id": "55b21b7a",
   "metadata": {},
   "outputs": [
    {
     "data": {
      "text/plain": [
       "51"
      ]
     },
     "execution_count": 27,
     "metadata": {},
     "output_type": "execute_result"
    }
   ],
   "source": [
    "5+7+15+14+10"
   ]
  },
  {
   "cell_type": "code",
   "execution_count": null,
   "id": "77f0f05e",
   "metadata": {},
   "outputs": [],
   "source": []
  },
  {
   "cell_type": "code",
   "execution_count": null,
   "id": "e935fc67",
   "metadata": {},
   "outputs": [],
   "source": []
  }
 ],
 "metadata": {
  "kernelspec": {
   "display_name": "Python 3 (ipykernel)",
   "language": "python",
   "name": "python3"
  },
  "language_info": {
   "codemirror_mode": {
    "name": "ipython",
    "version": 3
   },
   "file_extension": ".py",
   "mimetype": "text/x-python",
   "name": "python",
   "nbconvert_exporter": "python",
   "pygments_lexer": "ipython3",
   "version": "3.10.9"
  }
 },
 "nbformat": 4,
 "nbformat_minor": 5
}
